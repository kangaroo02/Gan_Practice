{
 "cells": [
  {
   "cell_type": "code",
   "execution_count": 11,
   "metadata": {},
   "outputs": [
    {
     "name": "stdout",
     "output_type": "stream",
     "text": [
      "Show System RAM Memory:\n",
      "\n",
      "\n",
      "MemTotal:        8041524 kB\n",
      "\n",
      "\n",
      "Show Devices:\n",
      "\n",
      "[name: \"/device:CPU:0\"\n",
      "device_type: \"CPU\"\n",
      "memory_limit: 268435456\n",
      "locality {\n",
      "}\n",
      "incarnation: 11290988342220584656\n",
      ", name: \"/device:GPU:0\"\n",
      "device_type: \"GPU\"\n",
      "memory_limit: 1542455296\n",
      "locality {\n",
      "  bus_id: 1\n",
      "  links {\n",
      "  }\n",
      "}\n",
      "incarnation: 16491030724100641768\n",
      "physical_device_desc: \"device: 0, name: GeForce MX150, pci bus id: 0000:01:00.0, compute capability: 6.1\"\n",
      "]\n",
      "opencv : 4.1.1\n",
      "tensorflow : 1.9.0\n"
     ]
    }
   ],
   "source": [
    "import cv2\n",
    "import numpy as np\n",
    "from matplotlib import pyplot\n",
    "import tensorflow as tf\n",
    "\n",
    "from tensorflow.python.client import device_lib\n",
    "\n",
    "print(\"Show System RAM Memory:\\n\\n\")\n",
    "!cat /proc/meminfo | egrep \"MemTotal*\"\n",
    "print(\"\\n\\nShow Devices:\\n\\n\"+str(device_lib.list_local_devices()))\n",
    "\n",
    "print(\"opencv :\",cv2.__version__)\n",
    "print(\"tensorflow :\",tf.VERSION)"
   ]
  },
  {
   "cell_type": "code",
   "execution_count": 52,
   "metadata": {},
   "outputs": [],
   "source": [
    "# prepare resize color image\n",
    "def prepare_resize_image(file_name):\n",
    "    color_img = cv2.imread(file_name)\n",
    "    \n",
    "    if fliter_out_gray_input(color_img) == False:\n",
    "        return []\n",
    "    \n",
    "    \n",
    "    resize_img = cv2.resize(color_img, desire_size)\n",
    "#     gray_img = cv2.cvtColor(resize_img, cv2.COLOR_BGR2GRAY)\n",
    "    \n",
    "#     cv2.imshow(\"color_img\", color_img)\n",
    "#     cv2.imshow(\"resize_img\", resize_img)\n",
    "#     cv2.imshow(\"gray_img\", gray_img)\n",
    "#     cv2.waitKey(0)\n",
    "    return resize_img\n",
    "\n",
    "    \n",
    "def fliter_out_gray_input(image):\n",
    "    hsv_image = cv2.cvtColor(image, cv2.COLOR_BGR2HSV)\n",
    "    average = hsv_image.mean(axis=0).mean(axis=0)\n",
    "    \n",
    "    h_channel = hsv_image[:,:,0]\n",
    "    \n",
    "    h_channel = np.reshape(h_channel, len(h_channel)*len(h_channel[0]))\n",
    "    h_average = sum(h_channel)/len(h_channel)\n",
    "    h_max = max(h_channel)\n",
    "    h_min = min(h_channel)\n",
    "    \n",
    "    print(h_average)\n",
    "    print(h_max, h_min)\n",
    "    \n",
    "    if(h_max-h_min <= 50):\n",
    "        return False\n",
    "    \n",
    "    return True\n",
    "    \n",
    "\n",
    "\n",
    "# prepare dataset\n",
    "# the input file must be an array of images\n",
    "def prepare_real_samples(file):\n",
    "    # load compressed arrays\n",
    "    # data = load(filename)\n",
    "    # load the face dataset\n",
    "    # color_images = data['arr_0'].astype('uint8')\n",
    "    color_images = file\n",
    "    \n",
    "    # print(type(src_images))\n",
    "    gray_images = color_images.astype('uint8')\n",
    "    gray_images [:,:,:,0] = color_images[:,:,:,0]/3 + color_images[:,:,:,1]/3 + color_images[:,:,:,2]/3\n",
    "    gray_images [:,:,:,1] = gray_images [:,:,:,0]\n",
    "    gray_images [:,:,:,2] = gray_images [:,:,:,0]\n",
    "    \n",
    "    # unpack arrays\n",
    "    X1 = gray_images\n",
    "    X2 = color_images\n",
    "\n",
    "    plot_images(color_images, 10)\n",
    "#     plot_images(gray_images, 10)\n",
    "    \n",
    "    # scale from [0,255] to [-1,1]\n",
    "    X1 = (X1 - 127.5) / 127.5\n",
    "    X2 = (X2 - 127.5) / 127.5\n",
    "    return [X1, X2]\n",
    "\n",
    "\n",
    "def plot_images(images, n):\n",
    "    for i in range(n * n):\n",
    "        if(i >= len(images)):\n",
    "            break\n",
    "        # define subplot\n",
    "        pyplot.subplot(n, n, 1 + i)\n",
    "        # turn off axis\n",
    "        pyplot.axis('off')\n",
    "        # plot raw pixel data # change from opencv-bgr to matplot-rgb\n",
    "        pyplot.imshow(images[i][...,::-1].astype('uint8'))\n",
    "    pyplot.show()\n"
   ]
  },
  {
   "cell_type": "code",
   "execution_count": 53,
   "metadata": {},
   "outputs": [],
   "source": [
    "from numpy import load\n",
    "from numpy import zeros\n",
    "from numpy import ones\n",
    "from numpy.random import randint\n",
    "from matplotlib.pyplot import figure\n",
    "pyplot.rcParams['figure.figsize'] = [20, 10]\n",
    "\n",
    "\n",
    "# select a batch of random samples, returns images and target\n",
    "def generate_real_samples(dataset, n_samples, patch_shape):\n",
    "    # unpack dataset\n",
    "    trainA, trainB = dataset\n",
    "    # choose random instances\n",
    "    ix = randint(0, trainA.shape[0], n_samples)\n",
    "    # retrieve selected images\n",
    "    X1, X2 = trainA[ix], trainB[ix]\n",
    "    # generate 'real' class labels (1)\n",
    "    y = ones((n_samples, patch_shape, patch_shape, 1))\n",
    "    return [X1, X2], y\n",
    "\n",
    "# generate a batch of images, returns images and targets\n",
    "def generate_fake_samples(g_model, samples, patch_shape):\n",
    "    # generate fake instance\n",
    "    X = g_model.predict(samples)\n",
    "    # create 'fake' class labels (0)\n",
    "    y = zeros((len(X), patch_shape, patch_shape, 1))\n",
    "    return X, y\n",
    "\n",
    "\n",
    "def summarize_performance(save_path, step, g_model, dataset, n_samples = 1):\n",
    "    # select a sample of input images\n",
    "    [X_realA, X_realB], _ = generate_real_samples(dataset, n_samples, 1)\n",
    "    # generate a batch of fake samples\n",
    "    X_fakeB, _ = generate_fake_samples(g_model, X_realA, 1)\n",
    "    # scale all pixels from [-1,1] to [0,1]\n",
    "    X_realA = (X_realA + 1) / 2.0\n",
    "    X_realB = (X_realB + 1) / 2.0\n",
    "    X_fakeB = (X_fakeB + 1) / 2.0\n",
    "    # plot real source images\n",
    "    for i in range(n_samples):\n",
    "        pyplot.subplot(n_samples, 3, 1 + i)\n",
    "        pyplot.axis('off')\n",
    "        pyplot.imshow(X_realA[i][...,::-1])\n",
    "    # plot generated target image\n",
    "    for i in range(n_samples):\n",
    "        pyplot.subplot(n_samples, 3, 1 + n_samples + i)\n",
    "        pyplot.axis('off')\n",
    "        pyplot.imshow(X_fakeB[i][...,::-1])\n",
    "    # plot real target image\n",
    "    for i in range(n_samples):\n",
    "        pyplot.subplot(n_samples, 3, 1 + n_samples*2 + i)\n",
    "        pyplot.axis('off')\n",
    "        pyplot.imshow(X_realB[i][...,::-1])\n",
    "        \n",
    "    pyplot.show()\n",
    "    # save plot to file\n",
    "#     filename1 = save_path + 'plot_%03d.png' % (step+1)\n",
    "#     pyplot.savefig(filename1)\n",
    "#     pyplot.close()\n"
   ]
  },
  {
   "cell_type": "code",
   "execution_count": 54,
   "metadata": {},
   "outputs": [
    {
     "name": "stdout",
     "output_type": "stream",
     "text": [
      "test_images/visual-reverse-image-search-v2_intro.jpg\n",
      "test_images/students-in-class-696x462.jpg\n",
      "test_images/ocean.jpg\n",
      "test_images/Screenshot-2019-02-18-at-10.56.29.png\n",
      "test_images/Healthy-food-including-lean-meats-low-fat-milk-whole-grains-and-vegetables.jpg\n",
      "test_images/Healthy Food Made Easy -min.jpg\n",
      "test_images/960x0.jpg\n",
      "test_images/gray.jpeg\n",
      "test_images/istockphoto-660726306-1024x1024.jpg\n",
      "test_images/tales-from-the-trenches.jpg\n",
      "test_images/0.jpg\n"
     ]
    }
   ],
   "source": [
    "# prepare input_names\n",
    "import os\n",
    "\n",
    "test_images_path = \"test_images\"\n",
    "desire_size = (256,256)\n",
    "files = []\n",
    "\n",
    "# r=root, d=directories, f = files\n",
    "for r, d, f in os.walk(test_images_path):\n",
    "    for file in f:\n",
    "        files.append(os.path.join(r, file))\n",
    "    \n",
    "for f in files:\n",
    "    print(f)"
   ]
  },
  {
   "cell_type": "code",
   "execution_count": 57,
   "metadata": {
    "scrolled": true
   },
   "outputs": [
    {
     "name": "stdout",
     "output_type": "stream",
     "text": [
      "75.96189107142857\n",
      "179 0\n"
     ]
    },
    {
     "data": {
      "image/png": "[encoded data removed]",
      "text/plain": [
       "<Figure size 1440x720 with 1 Axes>"
      ]
     },
     "metadata": {
      "needs_background": "light"
     },
     "output_type": "display_data"
    },
    {
     "name": "stdout",
     "output_type": "stream",
     "text": [
      "80.74050853361199\n",
      "179 0\n"
     ]
    },
    {
     "data": {
      "image/png": "[encoded data removed]",
      "text/plain": [
       "<Figure size 1440x720 with 1 Axes>"
      ]
     },
     "metadata": {
      "needs_background": "light"
     },
     "output_type": "display_data"
    },
    {
     "name": "stdout",
     "output_type": "stream",
     "text": [
      "87.49547655453618\n",
      "179 0\n"
     ]
    },
    {
     "data": {
      "image/png": "[encoded data removed]",
      "text/plain": [
       "<Figure size 1440x720 with 1 Axes>"
      ]
     },
     "metadata": {
      "needs_background": "light"
     },
     "output_type": "display_data"
    },
    {
     "name": "stdout",
     "output_type": "stream",
     "text": [
      "56.09210767989906\n",
      "179 0\n"
     ]
    },
    {
     "data": {
      "image/png": "[encoded data removed]",
      "text/plain": [
       "<Figure size 1440x720 with 1 Axes>"
      ]
     },
     "metadata": {
      "needs_background": "light"
     },
     "output_type": "display_data"
    },
    {
     "name": "stdout",
     "output_type": "stream",
     "text": [
      "45.4802625\n",
      "179 0\n"
     ]
    },
    {
     "data": {
      "image/png": "[encoded data removed]",
      "text/plain": [
       "<Figure size 1440x720 with 1 Axes>"
      ]
     },
     "metadata": {
      "needs_background": "light"
     },
     "output_type": "display_data"
    },
    {
     "name": "stdout",
     "output_type": "stream",
     "text": [
      "52.03515142857143\n",
      "179 0\n"
     ]
    },
    {
     "data": {
      "image/png": "[encoded data removed]",
      "text/plain": [
       "<Figure size 1440x720 with 1 Axes>"
      ]
     },
     "metadata": {
      "needs_background": "light"
     },
     "output_type": "display_data"
    },
    {
     "name": "stdout",
     "output_type": "stream",
     "text": [
      "64.82547037760416\n",
      "179 0\n"
     ]
    },
    {
     "data": {
      "image/png": "[encoded data removed]",
      "text/plain": [
       "<Figure size 1440x720 with 1 Axes>"
      ]
     },
     "metadata": {
      "needs_background": "light"
     },
     "output_type": "display_data"
    },
    {
     "name": "stdout",
     "output_type": "stream",
     "text": [
      "0.0\n",
      "0 0\n",
      "20.926319740118895\n",
      "27 13\n",
      "37.889770305470044\n",
      "179 0\n"
     ]
    },
    {
     "data": {
      "image/png": "[encoded data removed]",
      "text/plain": [
       "<Figure size 1440x720 with 1 Axes>"
      ]
     },
     "metadata": {
      "needs_background": "light"
     },
     "output_type": "display_data"
    },
    {
     "name": "stdout",
     "output_type": "stream",
     "text": [
      "63.86203979802799\n",
      "179 0\n"
     ]
    },
    {
     "data": {
      "image/png": "[encoded data removed]",
      "text/plain": [
       "<Figure size 1440x720 with 1 Axes>"
      ]
     },
     "metadata": {
      "needs_background": "light"
     },
     "output_type": "display_data"
    }
   ],
   "source": [
    "from numpy import asarray\n",
    "\n",
    "for file in files:\n",
    "\n",
    "    resize_img = prepare_resize_image(file)\n",
    "    if len(resize_img) == 0:\n",
    "        continue\n",
    "    dataset = prepare_real_samples(asarray([resize_img])) # the input must be a list\n"
   ]
  },
  {
   "cell_type": "code",
   "execution_count": null,
   "metadata": {},
   "outputs": [],
   "source": []
  },
  {
   "cell_type": "code",
   "execution_count": null,
   "metadata": {},
   "outputs": [],
   "source": []
  }
 ],
 "metadata": {
  "kernelspec": {
   "display_name": "Python [conda env:tf] *",
   "language": "python",
   "name": "conda-env-tf-py"
  },
  "language_info": {
   "codemirror_mode": {
    "name": "ipython",
    "version": 3
   },
   "file_extension": ".py",
   "mimetype": "text/x-python",
   "name": "python",
   "nbconvert_exporter": "python",
   "pygments_lexer": "ipython3",
   "version": "3.6.9"
  }
 },
 "nbformat": 4,
 "nbformat_minor": 2
}
